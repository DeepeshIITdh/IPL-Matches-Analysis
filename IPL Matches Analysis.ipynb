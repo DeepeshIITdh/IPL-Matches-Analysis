{
 "cells": [
  {
   "cell_type": "code",
   "execution_count": 1,
   "id": "e76c73af",
   "metadata": {},
   "outputs": [],
   "source": [
    "# importing packages\n",
    "import pandas as pd\n",
    "import numpy as np \n",
    "import matplotlib.pyplot as plt\n",
    "import seaborn as sns\n",
    "import plotly.express as px"
   ]
  },
  {
   "cell_type": "code",
   "execution_count": 2,
   "id": "4970762d",
   "metadata": {},
   "outputs": [],
   "source": [
    "# loading the data\n",
    "df = pd.read_csv(\"C://Users//Admin//Documents//Coding DOCS//CampusX Data Science//Datasets//IPL_matches.csv\")"
   ]
  },
  {
   "cell_type": "markdown",
   "id": "43853f02",
   "metadata": {},
   "source": [
    "## EDA on IPL Matches Dataset 2008-2024"
   ]
  },
  {
   "cell_type": "markdown",
   "id": "f1340ba3",
   "metadata": {},
   "source": [
    "### 1. Understanding the Data:"
   ]
  },
  {
   "cell_type": "code",
   "execution_count": 3,
   "id": "bddd6656",
   "metadata": {},
   "outputs": [
    {
     "data": {
      "text/html": [
       "<div>\n",
       "<style scoped>\n",
       "    .dataframe tbody tr th:only-of-type {\n",
       "        vertical-align: middle;\n",
       "    }\n",
       "\n",
       "    .dataframe tbody tr th {\n",
       "        vertical-align: top;\n",
       "    }\n",
       "\n",
       "    .dataframe thead th {\n",
       "        text-align: right;\n",
       "    }\n",
       "</style>\n",
       "<table border=\"1\" class=\"dataframe\">\n",
       "  <thead>\n",
       "    <tr style=\"text-align: right;\">\n",
       "      <th></th>\n",
       "      <th>id</th>\n",
       "      <th>season</th>\n",
       "      <th>city</th>\n",
       "      <th>date</th>\n",
       "      <th>match_type</th>\n",
       "      <th>player_of_match</th>\n",
       "      <th>venue</th>\n",
       "      <th>team1</th>\n",
       "      <th>team2</th>\n",
       "      <th>toss_winner</th>\n",
       "      <th>toss_decision</th>\n",
       "      <th>winner</th>\n",
       "      <th>result</th>\n",
       "      <th>result_margin</th>\n",
       "      <th>target_runs</th>\n",
       "      <th>target_overs</th>\n",
       "      <th>super_over</th>\n",
       "      <th>method</th>\n",
       "      <th>umpire1</th>\n",
       "      <th>umpire2</th>\n",
       "    </tr>\n",
       "  </thead>\n",
       "  <tbody>\n",
       "    <tr>\n",
       "      <th>985</th>\n",
       "      <td>1359510</td>\n",
       "      <td>2023</td>\n",
       "      <td>Bengaluru</td>\n",
       "      <td>2023-04-26</td>\n",
       "      <td>League</td>\n",
       "      <td>CV Varun</td>\n",
       "      <td>M Chinnaswamy Stadium, Bengaluru</td>\n",
       "      <td>Kolkata Knight Riders</td>\n",
       "      <td>Royal Challengers Bangalore</td>\n",
       "      <td>Royal Challengers Bangalore</td>\n",
       "      <td>field</td>\n",
       "      <td>Kolkata Knight Riders</td>\n",
       "      <td>runs</td>\n",
       "      <td>21.0</td>\n",
       "      <td>201.0</td>\n",
       "      <td>20.0</td>\n",
       "      <td>N</td>\n",
       "      <td>NaN</td>\n",
       "      <td>KN Ananthapadmanabhan</td>\n",
       "      <td>R Pandit</td>\n",
       "    </tr>\n",
       "    <tr>\n",
       "      <th>622</th>\n",
       "      <td>1082637</td>\n",
       "      <td>2017</td>\n",
       "      <td>Chandigarh</td>\n",
       "      <td>2017-05-07</td>\n",
       "      <td>League</td>\n",
       "      <td>DR Smith</td>\n",
       "      <td>Punjab Cricket Association IS Bindra Stadium, ...</td>\n",
       "      <td>Kings XI Punjab</td>\n",
       "      <td>Gujarat Lions</td>\n",
       "      <td>Gujarat Lions</td>\n",
       "      <td>field</td>\n",
       "      <td>Gujarat Lions</td>\n",
       "      <td>wickets</td>\n",
       "      <td>6.0</td>\n",
       "      <td>190.0</td>\n",
       "      <td>20.0</td>\n",
       "      <td>N</td>\n",
       "      <td>NaN</td>\n",
       "      <td>A Nand Kishore</td>\n",
       "      <td>VK Sharma</td>\n",
       "    </tr>\n",
       "    <tr>\n",
       "      <th>915</th>\n",
       "      <td>1304086</td>\n",
       "      <td>2022</td>\n",
       "      <td>Mumbai</td>\n",
       "      <td>2022-04-27</td>\n",
       "      <td>League</td>\n",
       "      <td>Umran Malik</td>\n",
       "      <td>Wankhede Stadium, Mumbai</td>\n",
       "      <td>Sunrisers Hyderabad</td>\n",
       "      <td>Gujarat Titans</td>\n",
       "      <td>Gujarat Titans</td>\n",
       "      <td>field</td>\n",
       "      <td>Gujarat Titans</td>\n",
       "      <td>wickets</td>\n",
       "      <td>5.0</td>\n",
       "      <td>196.0</td>\n",
       "      <td>20.0</td>\n",
       "      <td>N</td>\n",
       "      <td>NaN</td>\n",
       "      <td>CB Gaffaney</td>\n",
       "      <td>Navdeep Singh</td>\n",
       "    </tr>\n",
       "    <tr>\n",
       "      <th>163</th>\n",
       "      <td>419154</td>\n",
       "      <td>2009/10</td>\n",
       "      <td>Jaipur</td>\n",
       "      <td>2010-04-14</td>\n",
       "      <td>League</td>\n",
       "      <td>KP Pietersen</td>\n",
       "      <td>Sawai Mansingh Stadium</td>\n",
       "      <td>Rajasthan Royals</td>\n",
       "      <td>Royal Challengers Bangalore</td>\n",
       "      <td>Rajasthan Royals</td>\n",
       "      <td>bat</td>\n",
       "      <td>Royal Challengers Bangalore</td>\n",
       "      <td>wickets</td>\n",
       "      <td>5.0</td>\n",
       "      <td>131.0</td>\n",
       "      <td>20.0</td>\n",
       "      <td>N</td>\n",
       "      <td>NaN</td>\n",
       "      <td>BR Doctrove</td>\n",
       "      <td>S Ravi</td>\n",
       "    </tr>\n",
       "    <tr>\n",
       "      <th>565</th>\n",
       "      <td>980997</td>\n",
       "      <td>2016</td>\n",
       "      <td>Visakhapatnam</td>\n",
       "      <td>2016-05-17</td>\n",
       "      <td>League</td>\n",
       "      <td>AB Dinda</td>\n",
       "      <td>Dr. Y.S. Rajasekhara Reddy ACA-VDCA Cricket St...</td>\n",
       "      <td>Rising Pune Supergiants</td>\n",
       "      <td>Delhi Daredevils</td>\n",
       "      <td>Rising Pune Supergiants</td>\n",
       "      <td>field</td>\n",
       "      <td>Rising Pune Supergiants</td>\n",
       "      <td>runs</td>\n",
       "      <td>19.0</td>\n",
       "      <td>58.0</td>\n",
       "      <td>11.0</td>\n",
       "      <td>N</td>\n",
       "      <td>D/L</td>\n",
       "      <td>Nitin Menon</td>\n",
       "      <td>C Shamshuddin</td>\n",
       "    </tr>\n",
       "  </tbody>\n",
       "</table>\n",
       "</div>"
      ],
      "text/plain": [
       "          id   season           city        date match_type player_of_match  \\\n",
       "985  1359510     2023      Bengaluru  2023-04-26     League        CV Varun   \n",
       "622  1082637     2017     Chandigarh  2017-05-07     League        DR Smith   \n",
       "915  1304086     2022         Mumbai  2022-04-27     League     Umran Malik   \n",
       "163   419154  2009/10         Jaipur  2010-04-14     League    KP Pietersen   \n",
       "565   980997     2016  Visakhapatnam  2016-05-17     League        AB Dinda   \n",
       "\n",
       "                                                 venue  \\\n",
       "985                   M Chinnaswamy Stadium, Bengaluru   \n",
       "622  Punjab Cricket Association IS Bindra Stadium, ...   \n",
       "915                           Wankhede Stadium, Mumbai   \n",
       "163                             Sawai Mansingh Stadium   \n",
       "565  Dr. Y.S. Rajasekhara Reddy ACA-VDCA Cricket St...   \n",
       "\n",
       "                       team1                        team2  \\\n",
       "985    Kolkata Knight Riders  Royal Challengers Bangalore   \n",
       "622          Kings XI Punjab                Gujarat Lions   \n",
       "915      Sunrisers Hyderabad               Gujarat Titans   \n",
       "163         Rajasthan Royals  Royal Challengers Bangalore   \n",
       "565  Rising Pune Supergiants             Delhi Daredevils   \n",
       "\n",
       "                     toss_winner toss_decision                       winner  \\\n",
       "985  Royal Challengers Bangalore         field        Kolkata Knight Riders   \n",
       "622                Gujarat Lions         field                Gujarat Lions   \n",
       "915               Gujarat Titans         field               Gujarat Titans   \n",
       "163             Rajasthan Royals           bat  Royal Challengers Bangalore   \n",
       "565      Rising Pune Supergiants         field      Rising Pune Supergiants   \n",
       "\n",
       "      result  result_margin  target_runs  target_overs super_over method  \\\n",
       "985     runs           21.0        201.0          20.0          N    NaN   \n",
       "622  wickets            6.0        190.0          20.0          N    NaN   \n",
       "915  wickets            5.0        196.0          20.0          N    NaN   \n",
       "163  wickets            5.0        131.0          20.0          N    NaN   \n",
       "565     runs           19.0         58.0          11.0          N    D/L   \n",
       "\n",
       "                   umpire1        umpire2  \n",
       "985  KN Ananthapadmanabhan       R Pandit  \n",
       "622         A Nand Kishore      VK Sharma  \n",
       "915            CB Gaffaney  Navdeep Singh  \n",
       "163            BR Doctrove         S Ravi  \n",
       "565            Nitin Menon  C Shamshuddin  "
      ]
     },
     "execution_count": 3,
     "metadata": {},
     "output_type": "execute_result"
    }
   ],
   "source": [
    "# how does the data look like?\n",
    "df.sample(5)"
   ]
  },
  {
   "cell_type": "code",
   "execution_count": 4,
   "id": "7ebcec92",
   "metadata": {},
   "outputs": [
    {
     "data": {
      "text/plain": [
       "(1095, 20)"
      ]
     },
     "execution_count": 4,
     "metadata": {},
     "output_type": "execute_result"
    }
   ],
   "source": [
    "# how big is the data? \n",
    "df.shape"
   ]
  },
  {
   "cell_type": "code",
   "execution_count": 5,
   "id": "5554dae5",
   "metadata": {},
   "outputs": [
    {
     "name": "stdout",
     "output_type": "stream",
     "text": [
      "<class 'pandas.core.frame.DataFrame'>\n",
      "RangeIndex: 1095 entries, 0 to 1094\n",
      "Data columns (total 20 columns):\n",
      " #   Column           Non-Null Count  Dtype  \n",
      "---  ------           --------------  -----  \n",
      " 0   id               1095 non-null   int64  \n",
      " 1   season           1095 non-null   object \n",
      " 2   city             1044 non-null   object \n",
      " 3   date             1095 non-null   object \n",
      " 4   match_type       1095 non-null   object \n",
      " 5   player_of_match  1090 non-null   object \n",
      " 6   venue            1095 non-null   object \n",
      " 7   team1            1095 non-null   object \n",
      " 8   team2            1095 non-null   object \n",
      " 9   toss_winner      1095 non-null   object \n",
      " 10  toss_decision    1095 non-null   object \n",
      " 11  winner           1090 non-null   object \n",
      " 12  result           1095 non-null   object \n",
      " 13  result_margin    1076 non-null   float64\n",
      " 14  target_runs      1092 non-null   float64\n",
      " 15  target_overs     1092 non-null   float64\n",
      " 16  super_over       1095 non-null   object \n",
      " 17  method           21 non-null     object \n",
      " 18  umpire1          1095 non-null   object \n",
      " 19  umpire2          1095 non-null   object \n",
      "dtypes: float64(3), int64(1), object(16)\n",
      "memory usage: 171.2+ KB\n"
     ]
    }
   ],
   "source": [
    "# info about columns\n",
    "df.info()"
   ]
  },
  {
   "cell_type": "code",
   "execution_count": 6,
   "id": "820e881a",
   "metadata": {},
   "outputs": [
    {
     "data": {
      "text/plain": [
       "id                    0\n",
       "season                0\n",
       "city                 51\n",
       "date                  0\n",
       "match_type            0\n",
       "player_of_match       5\n",
       "venue                 0\n",
       "team1                 0\n",
       "team2                 0\n",
       "toss_winner           0\n",
       "toss_decision         0\n",
       "winner                5\n",
       "result                0\n",
       "result_margin        19\n",
       "target_runs           3\n",
       "target_overs          3\n",
       "super_over            0\n",
       "method             1074\n",
       "umpire1               0\n",
       "umpire2               0\n",
       "dtype: int64"
      ]
     },
     "execution_count": 6,
     "metadata": {},
     "output_type": "execute_result"
    }
   ],
   "source": [
    "# missing values\n",
    "df.isnull().sum()"
   ]
  },
  {
   "cell_type": "code",
   "execution_count": 7,
   "id": "c7a24ff3",
   "metadata": {},
   "outputs": [
    {
     "data": {
      "text/plain": [
       "0"
      ]
     },
     "execution_count": 7,
     "metadata": {},
     "output_type": "execute_result"
    }
   ],
   "source": [
    "# duplicated values\n",
    "df.duplicated().sum()"
   ]
  },
  {
   "cell_type": "code",
   "execution_count": 8,
   "id": "72713d98",
   "metadata": {},
   "outputs": [
    {
     "data": {
      "text/html": [
       "<div>\n",
       "<style scoped>\n",
       "    .dataframe tbody tr th:only-of-type {\n",
       "        vertical-align: middle;\n",
       "    }\n",
       "\n",
       "    .dataframe tbody tr th {\n",
       "        vertical-align: top;\n",
       "    }\n",
       "\n",
       "    .dataframe thead th {\n",
       "        text-align: right;\n",
       "    }\n",
       "</style>\n",
       "<table border=\"1\" class=\"dataframe\">\n",
       "  <thead>\n",
       "    <tr style=\"text-align: right;\">\n",
       "      <th></th>\n",
       "      <th>id</th>\n",
       "      <th>result_margin</th>\n",
       "      <th>target_runs</th>\n",
       "      <th>target_overs</th>\n",
       "    </tr>\n",
       "  </thead>\n",
       "  <tbody>\n",
       "    <tr>\n",
       "      <th>count</th>\n",
       "      <td>1.095000e+03</td>\n",
       "      <td>1076.000000</td>\n",
       "      <td>1092.000000</td>\n",
       "      <td>1092.000000</td>\n",
       "    </tr>\n",
       "    <tr>\n",
       "      <th>mean</th>\n",
       "      <td>9.048283e+05</td>\n",
       "      <td>17.259294</td>\n",
       "      <td>165.684066</td>\n",
       "      <td>19.759341</td>\n",
       "    </tr>\n",
       "    <tr>\n",
       "      <th>std</th>\n",
       "      <td>3.677402e+05</td>\n",
       "      <td>21.787444</td>\n",
       "      <td>33.427048</td>\n",
       "      <td>1.581108</td>\n",
       "    </tr>\n",
       "    <tr>\n",
       "      <th>min</th>\n",
       "      <td>3.359820e+05</td>\n",
       "      <td>1.000000</td>\n",
       "      <td>43.000000</td>\n",
       "      <td>5.000000</td>\n",
       "    </tr>\n",
       "    <tr>\n",
       "      <th>25%</th>\n",
       "      <td>5.483315e+05</td>\n",
       "      <td>6.000000</td>\n",
       "      <td>146.000000</td>\n",
       "      <td>20.000000</td>\n",
       "    </tr>\n",
       "    <tr>\n",
       "      <th>50%</th>\n",
       "      <td>9.809610e+05</td>\n",
       "      <td>8.000000</td>\n",
       "      <td>166.000000</td>\n",
       "      <td>20.000000</td>\n",
       "    </tr>\n",
       "    <tr>\n",
       "      <th>75%</th>\n",
       "      <td>1.254062e+06</td>\n",
       "      <td>20.000000</td>\n",
       "      <td>187.000000</td>\n",
       "      <td>20.000000</td>\n",
       "    </tr>\n",
       "    <tr>\n",
       "      <th>max</th>\n",
       "      <td>1.426312e+06</td>\n",
       "      <td>146.000000</td>\n",
       "      <td>288.000000</td>\n",
       "      <td>20.000000</td>\n",
       "    </tr>\n",
       "  </tbody>\n",
       "</table>\n",
       "</div>"
      ],
      "text/plain": [
       "                 id  result_margin  target_runs  target_overs\n",
       "count  1.095000e+03    1076.000000  1092.000000   1092.000000\n",
       "mean   9.048283e+05      17.259294   165.684066     19.759341\n",
       "std    3.677402e+05      21.787444    33.427048      1.581108\n",
       "min    3.359820e+05       1.000000    43.000000      5.000000\n",
       "25%    5.483315e+05       6.000000   146.000000     20.000000\n",
       "50%    9.809610e+05       8.000000   166.000000     20.000000\n",
       "75%    1.254062e+06      20.000000   187.000000     20.000000\n",
       "max    1.426312e+06     146.000000   288.000000     20.000000"
      ]
     },
     "execution_count": 8,
     "metadata": {},
     "output_type": "execute_result"
    }
   ],
   "source": [
    "# statistical data representation\n",
    "df.describe()"
   ]
  },
  {
   "cell_type": "markdown",
   "id": "d113c27b",
   "metadata": {},
   "source": [
    "### 2. Univariate Analysis:\n",
    "(individually analyzing each column)"
   ]
  },
  {
   "cell_type": "code",
   "execution_count": 9,
   "id": "ff61bd3e",
   "metadata": {},
   "outputs": [
    {
     "data": {
      "text/html": [
       "<div>\n",
       "<style scoped>\n",
       "    .dataframe tbody tr th:only-of-type {\n",
       "        vertical-align: middle;\n",
       "    }\n",
       "\n",
       "    .dataframe tbody tr th {\n",
       "        vertical-align: top;\n",
       "    }\n",
       "\n",
       "    .dataframe thead th {\n",
       "        text-align: right;\n",
       "    }\n",
       "</style>\n",
       "<table border=\"1\" class=\"dataframe\">\n",
       "  <thead>\n",
       "    <tr style=\"text-align: right;\">\n",
       "      <th></th>\n",
       "      <th>id</th>\n",
       "      <th>season</th>\n",
       "      <th>city</th>\n",
       "      <th>date</th>\n",
       "      <th>match_type</th>\n",
       "      <th>player_of_match</th>\n",
       "      <th>venue</th>\n",
       "      <th>team1</th>\n",
       "      <th>team2</th>\n",
       "      <th>toss_winner</th>\n",
       "      <th>toss_decision</th>\n",
       "      <th>winner</th>\n",
       "      <th>result</th>\n",
       "      <th>result_margin</th>\n",
       "      <th>target_runs</th>\n",
       "      <th>target_overs</th>\n",
       "      <th>super_over</th>\n",
       "      <th>method</th>\n",
       "      <th>umpire1</th>\n",
       "      <th>umpire2</th>\n",
       "    </tr>\n",
       "  </thead>\n",
       "  <tbody>\n",
       "    <tr>\n",
       "      <th>0</th>\n",
       "      <td>335982</td>\n",
       "      <td>2007/08</td>\n",
       "      <td>Bangalore</td>\n",
       "      <td>2008-04-18</td>\n",
       "      <td>League</td>\n",
       "      <td>BB McCullum</td>\n",
       "      <td>M Chinnaswamy Stadium</td>\n",
       "      <td>Royal Challengers Bangalore</td>\n",
       "      <td>Kolkata Knight Riders</td>\n",
       "      <td>Royal Challengers Bangalore</td>\n",
       "      <td>field</td>\n",
       "      <td>Kolkata Knight Riders</td>\n",
       "      <td>runs</td>\n",
       "      <td>140.0</td>\n",
       "      <td>223.0</td>\n",
       "      <td>20.0</td>\n",
       "      <td>N</td>\n",
       "      <td>NaN</td>\n",
       "      <td>Asad Rauf</td>\n",
       "      <td>RE Koertzen</td>\n",
       "    </tr>\n",
       "    <tr>\n",
       "      <th>1</th>\n",
       "      <td>335983</td>\n",
       "      <td>2007/08</td>\n",
       "      <td>Chandigarh</td>\n",
       "      <td>2008-04-19</td>\n",
       "      <td>League</td>\n",
       "      <td>MEK Hussey</td>\n",
       "      <td>Punjab Cricket Association Stadium, Mohali</td>\n",
       "      <td>Kings XI Punjab</td>\n",
       "      <td>Chennai Super Kings</td>\n",
       "      <td>Chennai Super Kings</td>\n",
       "      <td>bat</td>\n",
       "      <td>Chennai Super Kings</td>\n",
       "      <td>runs</td>\n",
       "      <td>33.0</td>\n",
       "      <td>241.0</td>\n",
       "      <td>20.0</td>\n",
       "      <td>N</td>\n",
       "      <td>NaN</td>\n",
       "      <td>MR Benson</td>\n",
       "      <td>SL Shastri</td>\n",
       "    </tr>\n",
       "    <tr>\n",
       "      <th>2</th>\n",
       "      <td>335984</td>\n",
       "      <td>2007/08</td>\n",
       "      <td>Delhi</td>\n",
       "      <td>2008-04-19</td>\n",
       "      <td>League</td>\n",
       "      <td>MF Maharoof</td>\n",
       "      <td>Feroz Shah Kotla</td>\n",
       "      <td>Delhi Daredevils</td>\n",
       "      <td>Rajasthan Royals</td>\n",
       "      <td>Rajasthan Royals</td>\n",
       "      <td>bat</td>\n",
       "      <td>Delhi Daredevils</td>\n",
       "      <td>wickets</td>\n",
       "      <td>9.0</td>\n",
       "      <td>130.0</td>\n",
       "      <td>20.0</td>\n",
       "      <td>N</td>\n",
       "      <td>NaN</td>\n",
       "      <td>Aleem Dar</td>\n",
       "      <td>GA Pratapkumar</td>\n",
       "    </tr>\n",
       "    <tr>\n",
       "      <th>3</th>\n",
       "      <td>335985</td>\n",
       "      <td>2007/08</td>\n",
       "      <td>Mumbai</td>\n",
       "      <td>2008-04-20</td>\n",
       "      <td>League</td>\n",
       "      <td>MV Boucher</td>\n",
       "      <td>Wankhede Stadium</td>\n",
       "      <td>Mumbai Indians</td>\n",
       "      <td>Royal Challengers Bangalore</td>\n",
       "      <td>Mumbai Indians</td>\n",
       "      <td>bat</td>\n",
       "      <td>Royal Challengers Bangalore</td>\n",
       "      <td>wickets</td>\n",
       "      <td>5.0</td>\n",
       "      <td>166.0</td>\n",
       "      <td>20.0</td>\n",
       "      <td>N</td>\n",
       "      <td>NaN</td>\n",
       "      <td>SJ Davis</td>\n",
       "      <td>DJ Harper</td>\n",
       "    </tr>\n",
       "    <tr>\n",
       "      <th>4</th>\n",
       "      <td>335986</td>\n",
       "      <td>2007/08</td>\n",
       "      <td>Kolkata</td>\n",
       "      <td>2008-04-20</td>\n",
       "      <td>League</td>\n",
       "      <td>DJ Hussey</td>\n",
       "      <td>Eden Gardens</td>\n",
       "      <td>Kolkata Knight Riders</td>\n",
       "      <td>Deccan Chargers</td>\n",
       "      <td>Deccan Chargers</td>\n",
       "      <td>bat</td>\n",
       "      <td>Kolkata Knight Riders</td>\n",
       "      <td>wickets</td>\n",
       "      <td>5.0</td>\n",
       "      <td>111.0</td>\n",
       "      <td>20.0</td>\n",
       "      <td>N</td>\n",
       "      <td>NaN</td>\n",
       "      <td>BF Bowden</td>\n",
       "      <td>K Hariharan</td>\n",
       "    </tr>\n",
       "  </tbody>\n",
       "</table>\n",
       "</div>"
      ],
      "text/plain": [
       "       id   season        city        date match_type player_of_match  \\\n",
       "0  335982  2007/08   Bangalore  2008-04-18     League     BB McCullum   \n",
       "1  335983  2007/08  Chandigarh  2008-04-19     League      MEK Hussey   \n",
       "2  335984  2007/08       Delhi  2008-04-19     League     MF Maharoof   \n",
       "3  335985  2007/08      Mumbai  2008-04-20     League      MV Boucher   \n",
       "4  335986  2007/08     Kolkata  2008-04-20     League       DJ Hussey   \n",
       "\n",
       "                                        venue                        team1  \\\n",
       "0                       M Chinnaswamy Stadium  Royal Challengers Bangalore   \n",
       "1  Punjab Cricket Association Stadium, Mohali              Kings XI Punjab   \n",
       "2                            Feroz Shah Kotla             Delhi Daredevils   \n",
       "3                            Wankhede Stadium               Mumbai Indians   \n",
       "4                                Eden Gardens        Kolkata Knight Riders   \n",
       "\n",
       "                         team2                  toss_winner toss_decision  \\\n",
       "0        Kolkata Knight Riders  Royal Challengers Bangalore         field   \n",
       "1          Chennai Super Kings          Chennai Super Kings           bat   \n",
       "2             Rajasthan Royals             Rajasthan Royals           bat   \n",
       "3  Royal Challengers Bangalore               Mumbai Indians           bat   \n",
       "4              Deccan Chargers              Deccan Chargers           bat   \n",
       "\n",
       "                        winner   result  result_margin  target_runs  \\\n",
       "0        Kolkata Knight Riders     runs          140.0        223.0   \n",
       "1          Chennai Super Kings     runs           33.0        241.0   \n",
       "2             Delhi Daredevils  wickets            9.0        130.0   \n",
       "3  Royal Challengers Bangalore  wickets            5.0        166.0   \n",
       "4        Kolkata Knight Riders  wickets            5.0        111.0   \n",
       "\n",
       "   target_overs super_over method    umpire1         umpire2  \n",
       "0          20.0          N    NaN  Asad Rauf     RE Koertzen  \n",
       "1          20.0          N    NaN  MR Benson      SL Shastri  \n",
       "2          20.0          N    NaN  Aleem Dar  GA Pratapkumar  \n",
       "3          20.0          N    NaN   SJ Davis       DJ Harper  \n",
       "4          20.0          N    NaN  BF Bowden     K Hariharan  "
      ]
     },
     "execution_count": 9,
     "metadata": {},
     "output_type": "execute_result"
    }
   ],
   "source": [
    "df.head()"
   ]
  },
  {
   "cell_type": "markdown",
   "id": "96915c07",
   "metadata": {},
   "source": [
    "### a. Season:"
   ]
  },
  {
   "cell_type": "code",
   "execution_count": 10,
   "id": "fe0b7a5b",
   "metadata": {},
   "outputs": [
    {
     "data": {
      "text/plain": [
       "array(['2007/08', '2009', '2009/10', '2011', '2012', '2013', '2014',\n",
       "       '2015', '2016', '2017', '2018', '2019', '2020/21', '2021', '2022',\n",
       "       '2023', '2024'], dtype=object)"
      ]
     },
     "execution_count": 10,
     "metadata": {},
     "output_type": "execute_result"
    }
   ],
   "source": [
    "df.season.unique()"
   ]
  },
  {
   "cell_type": "code",
   "execution_count": 11,
   "id": "ec50babc",
   "metadata": {},
   "outputs": [],
   "source": [
    "df.drop(columns=['season'],inplace=True)"
   ]
  },
  {
   "cell_type": "markdown",
   "id": "8751c3a9",
   "metadata": {},
   "source": [
    "### b. City:"
   ]
  },
  {
   "cell_type": "code",
   "execution_count": 12,
   "id": "2f398269",
   "metadata": {},
   "outputs": [
    {
     "data": {
      "text/plain": [
       "37"
      ]
     },
     "execution_count": 12,
     "metadata": {},
     "output_type": "execute_result"
    }
   ],
   "source": [
    "len(df.city.unique())"
   ]
  },
  {
   "cell_type": "code",
   "execution_count": 13,
   "id": "516f1bfa",
   "metadata": {},
   "outputs": [
    {
     "data": {
      "text/plain": [
       "<Axes: xlabel='city'>"
      ]
     },
     "execution_count": 13,
     "metadata": {},
     "output_type": "execute_result"
    },
    {
     "data": {
      "image/png": "[encoded data removed]",
      "text/plain": [
       "<Figure size 1000x300 with 1 Axes>"
      ]
     },
     "metadata": {},
     "output_type": "display_data"
    }
   ],
   "source": [
    "plt.figure(figsize=(10,3))\n",
    "df.city.value_counts().plot(kind='bar')"
   ]
  },
  {
   "cell_type": "markdown",
   "id": "e5da56f3",
   "metadata": {},
   "source": [
    "### c. Date:\n",
    "We can extract year, month, day and day_name from this date > Feature Engineering"
   ]
  },
  {
   "cell_type": "code",
   "execution_count": 14,
   "id": "e11d46f8",
   "metadata": {},
   "outputs": [],
   "source": [
    "df.date = pd.to_datetime(df.date)"
   ]
  },
  {
   "cell_type": "code",
   "execution_count": 15,
   "id": "ad6dd5c1",
   "metadata": {},
   "outputs": [
    {
     "data": {
      "text/plain": [
       "id                          int64\n",
       "city                       object\n",
       "date               datetime64[ns]\n",
       "match_type                 object\n",
       "player_of_match            object\n",
       "venue                      object\n",
       "team1                      object\n",
       "team2                      object\n",
       "toss_winner                object\n",
       "toss_decision              object\n",
       "winner                     object\n",
       "result                     object\n",
       "result_margin             float64\n",
       "target_runs               float64\n",
       "target_overs              float64\n",
       "super_over                 object\n",
       "method                     object\n",
       "umpire1                    object\n",
       "umpire2                    object\n",
       "dtype: object"
      ]
     },
     "execution_count": 15,
     "metadata": {},
     "output_type": "execute_result"
    }
   ],
   "source": [
    "df.dtypes"
   ]
  },
  {
   "cell_type": "code",
   "execution_count": 18,
   "id": "d7e5906b",
   "metadata": {},
   "outputs": [],
   "source": [
    "df['year'] = df['date'].dt.year\n",
    "df['month'] = df['date'].dt.month_name()\n",
    "df['day'] = df['date'].dt.day_name()"
   ]
  },
  {
   "cell_type": "code",
   "execution_count": 19,
   "id": "d6baf0c0",
   "metadata": {},
   "outputs": [
    {
     "data": {
      "text/html": [
       "<div>\n",
       "<style scoped>\n",
       "    .dataframe tbody tr th:only-of-type {\n",
       "        vertical-align: middle;\n",
       "    }\n",
       "\n",
       "    .dataframe tbody tr th {\n",
       "        vertical-align: top;\n",
       "    }\n",
       "\n",
       "    .dataframe thead th {\n",
       "        text-align: right;\n",
       "    }\n",
       "</style>\n",
       "<table border=\"1\" class=\"dataframe\">\n",
       "  <thead>\n",
       "    <tr style=\"text-align: right;\">\n",
       "      <th></th>\n",
       "      <th>id</th>\n",
       "      <th>city</th>\n",
       "      <th>date</th>\n",
       "      <th>match_type</th>\n",
       "      <th>player_of_match</th>\n",
       "      <th>venue</th>\n",
       "      <th>team1</th>\n",
       "      <th>team2</th>\n",
       "      <th>toss_winner</th>\n",
       "      <th>toss_decision</th>\n",
       "      <th>...</th>\n",
       "      <th>result_margin</th>\n",
       "      <th>target_runs</th>\n",
       "      <th>target_overs</th>\n",
       "      <th>super_over</th>\n",
       "      <th>method</th>\n",
       "      <th>umpire1</th>\n",
       "      <th>umpire2</th>\n",
       "      <th>month</th>\n",
       "      <th>day</th>\n",
       "      <th>year</th>\n",
       "    </tr>\n",
       "  </thead>\n",
       "  <tbody>\n",
       "    <tr>\n",
       "      <th>0</th>\n",
       "      <td>335982</td>\n",
       "      <td>Bangalore</td>\n",
       "      <td>2008-04-18</td>\n",
       "      <td>League</td>\n",
       "      <td>BB McCullum</td>\n",
       "      <td>M Chinnaswamy Stadium</td>\n",
       "      <td>Royal Challengers Bangalore</td>\n",
       "      <td>Kolkata Knight Riders</td>\n",
       "      <td>Royal Challengers Bangalore</td>\n",
       "      <td>field</td>\n",
       "      <td>...</td>\n",
       "      <td>140.0</td>\n",
       "      <td>223.0</td>\n",
       "      <td>20.0</td>\n",
       "      <td>N</td>\n",
       "      <td>NaN</td>\n",
       "      <td>Asad Rauf</td>\n",
       "      <td>RE Koertzen</td>\n",
       "      <td>April</td>\n",
       "      <td>Friday</td>\n",
       "      <td>2008</td>\n",
       "    </tr>\n",
       "    <tr>\n",
       "      <th>1</th>\n",
       "      <td>335983</td>\n",
       "      <td>Chandigarh</td>\n",
       "      <td>2008-04-19</td>\n",
       "      <td>League</td>\n",
       "      <td>MEK Hussey</td>\n",
       "      <td>Punjab Cricket Association Stadium, Mohali</td>\n",
       "      <td>Kings XI Punjab</td>\n",
       "      <td>Chennai Super Kings</td>\n",
       "      <td>Chennai Super Kings</td>\n",
       "      <td>bat</td>\n",
       "      <td>...</td>\n",
       "      <td>33.0</td>\n",
       "      <td>241.0</td>\n",
       "      <td>20.0</td>\n",
       "      <td>N</td>\n",
       "      <td>NaN</td>\n",
       "      <td>MR Benson</td>\n",
       "      <td>SL Shastri</td>\n",
       "      <td>April</td>\n",
       "      <td>Saturday</td>\n",
       "      <td>2008</td>\n",
       "    </tr>\n",
       "    <tr>\n",
       "      <th>2</th>\n",
       "      <td>335984</td>\n",
       "      <td>Delhi</td>\n",
       "      <td>2008-04-19</td>\n",
       "      <td>League</td>\n",
       "      <td>MF Maharoof</td>\n",
       "      <td>Feroz Shah Kotla</td>\n",
       "      <td>Delhi Daredevils</td>\n",
       "      <td>Rajasthan Royals</td>\n",
       "      <td>Rajasthan Royals</td>\n",
       "      <td>bat</td>\n",
       "      <td>...</td>\n",
       "      <td>9.0</td>\n",
       "      <td>130.0</td>\n",
       "      <td>20.0</td>\n",
       "      <td>N</td>\n",
       "      <td>NaN</td>\n",
       "      <td>Aleem Dar</td>\n",
       "      <td>GA Pratapkumar</td>\n",
       "      <td>April</td>\n",
       "      <td>Saturday</td>\n",
       "      <td>2008</td>\n",
       "    </tr>\n",
       "    <tr>\n",
       "      <th>3</th>\n",
       "      <td>335985</td>\n",
       "      <td>Mumbai</td>\n",
       "      <td>2008-04-20</td>\n",
       "      <td>League</td>\n",
       "      <td>MV Boucher</td>\n",
       "      <td>Wankhede Stadium</td>\n",
       "      <td>Mumbai Indians</td>\n",
       "      <td>Royal Challengers Bangalore</td>\n",
       "      <td>Mumbai Indians</td>\n",
       "      <td>bat</td>\n",
       "      <td>...</td>\n",
       "      <td>5.0</td>\n",
       "      <td>166.0</td>\n",
       "      <td>20.0</td>\n",
       "      <td>N</td>\n",
       "      <td>NaN</td>\n",
       "      <td>SJ Davis</td>\n",
       "      <td>DJ Harper</td>\n",
       "      <td>April</td>\n",
       "      <td>Sunday</td>\n",
       "      <td>2008</td>\n",
       "    </tr>\n",
       "    <tr>\n",
       "      <th>4</th>\n",
       "      <td>335986</td>\n",
       "      <td>Kolkata</td>\n",
       "      <td>2008-04-20</td>\n",
       "      <td>League</td>\n",
       "      <td>DJ Hussey</td>\n",
       "      <td>Eden Gardens</td>\n",
       "      <td>Kolkata Knight Riders</td>\n",
       "      <td>Deccan Chargers</td>\n",
       "      <td>Deccan Chargers</td>\n",
       "      <td>bat</td>\n",
       "      <td>...</td>\n",
       "      <td>5.0</td>\n",
       "      <td>111.0</td>\n",
       "      <td>20.0</td>\n",
       "      <td>N</td>\n",
       "      <td>NaN</td>\n",
       "      <td>BF Bowden</td>\n",
       "      <td>K Hariharan</td>\n",
       "      <td>April</td>\n",
       "      <td>Sunday</td>\n",
       "      <td>2008</td>\n",
       "    </tr>\n",
       "  </tbody>\n",
       "</table>\n",
       "<p>5 rows × 22 columns</p>\n",
       "</div>"
      ],
      "text/plain": [
       "       id        city       date match_type player_of_match  \\\n",
       "0  335982   Bangalore 2008-04-18     League     BB McCullum   \n",
       "1  335983  Chandigarh 2008-04-19     League      MEK Hussey   \n",
       "2  335984       Delhi 2008-04-19     League     MF Maharoof   \n",
       "3  335985      Mumbai 2008-04-20     League      MV Boucher   \n",
       "4  335986     Kolkata 2008-04-20     League       DJ Hussey   \n",
       "\n",
       "                                        venue                        team1  \\\n",
       "0                       M Chinnaswamy Stadium  Royal Challengers Bangalore   \n",
       "1  Punjab Cricket Association Stadium, Mohali              Kings XI Punjab   \n",
       "2                            Feroz Shah Kotla             Delhi Daredevils   \n",
       "3                            Wankhede Stadium               Mumbai Indians   \n",
       "4                                Eden Gardens        Kolkata Knight Riders   \n",
       "\n",
       "                         team2                  toss_winner toss_decision  \\\n",
       "0        Kolkata Knight Riders  Royal Challengers Bangalore         field   \n",
       "1          Chennai Super Kings          Chennai Super Kings           bat   \n",
       "2             Rajasthan Royals             Rajasthan Royals           bat   \n",
       "3  Royal Challengers Bangalore               Mumbai Indians           bat   \n",
       "4              Deccan Chargers              Deccan Chargers           bat   \n",
       "\n",
       "   ... result_margin target_runs  target_overs  super_over  method    umpire1  \\\n",
       "0  ...         140.0       223.0          20.0           N     NaN  Asad Rauf   \n",
       "1  ...          33.0       241.0          20.0           N     NaN  MR Benson   \n",
       "2  ...           9.0       130.0          20.0           N     NaN  Aleem Dar   \n",
       "3  ...           5.0       166.0          20.0           N     NaN   SJ Davis   \n",
       "4  ...           5.0       111.0          20.0           N     NaN  BF Bowden   \n",
       "\n",
       "          umpire2  month       day  year  \n",
       "0     RE Koertzen  April    Friday  2008  \n",
       "1      SL Shastri  April  Saturday  2008  \n",
       "2  GA Pratapkumar  April  Saturday  2008  \n",
       "3       DJ Harper  April    Sunday  2008  \n",
       "4     K Hariharan  April    Sunday  2008  \n",
       "\n",
       "[5 rows x 22 columns]"
      ]
     },
     "execution_count": 19,
     "metadata": {},
     "output_type": "execute_result"
    }
   ],
   "source": [
    "df.head()"
   ]
  },
  {
   "cell_type": "markdown",
   "id": "8e2c5662",
   "metadata": {},
   "source": [
    "### d. Match_type:"
   ]
  },
  {
   "cell_type": "code",
   "execution_count": 30,
   "id": "3749222b",
   "metadata": {},
   "outputs": [
    {
     "data": {
      "text/plain": [
       "match_type\n",
       "League                1029\n",
       "Final                   17\n",
       "Qualifier 1             14\n",
       "Qualifier 2             14\n",
       "Eliminator              11\n",
       "Semi Final               6\n",
       "Elimination Final        3\n",
       "3rd Place Play-Off       1\n",
       "Name: count, dtype: int64"
      ]
     },
     "execution_count": 30,
     "metadata": {},
     "output_type": "execute_result"
    }
   ],
   "source": [
    "df.match_type.value_counts()"
   ]
  },
  {
   "cell_type": "code",
   "execution_count": 42,
   "id": "7131e901",
   "metadata": {
    "scrolled": false
   },
   "outputs": [],
   "source": [
    "# elimination final is same as eliminator\n",
    "df['match_type'] = df['match_type'].str.replace('Elimination Final','Eliminator')"
   ]
  },
  {
   "cell_type": "code",
   "execution_count": 43,
   "id": "a5bab16f",
   "metadata": {},
   "outputs": [
    {
     "data": {
      "text/plain": [
       "match_type\n",
       "League                1029\n",
       "Final                   17\n",
       "Qualifier 1             14\n",
       "Eliminator              14\n",
       "Qualifier 2             14\n",
       "Semi Final               6\n",
       "3rd Place Play-Off       1\n",
       "Name: count, dtype: int64"
      ]
     },
     "execution_count": 43,
     "metadata": {},
     "output_type": "execute_result"
    }
   ],
   "source": [
    "df.match_type.value_counts()"
   ]
  },
  {
   "cell_type": "markdown",
   "id": "22aaa9fa",
   "metadata": {},
   "source": [
    "### e. Player of the match:"
   ]
  },
  {
   "cell_type": "code",
   "execution_count": 53,
   "id": "5d0789a8",
   "metadata": {},
   "outputs": [
    {
     "data": {
      "text/plain": [
       "([0, 1, 2, 3, 4, 5, 6, 7, 8, 9],\n",
       " [Text(0, 0, 'AB de Villiers'),\n",
       "  Text(1, 0, 'CH Gayle'),\n",
       "  Text(2, 0, 'RG Sharma'),\n",
       "  Text(3, 0, 'DA Warner'),\n",
       "  Text(4, 0, 'V Kohli'),\n",
       "  Text(5, 0, 'MS Dhoni'),\n",
       "  Text(6, 0, 'SR Watson'),\n",
       "  Text(7, 0, 'YK Pathan'),\n",
       "  Text(8, 0, 'RA Jadeja'),\n",
       "  Text(9, 0, 'AD Russell')])"
      ]
     },
     "execution_count": 53,
     "metadata": {},
     "output_type": "execute_result"
    },
    {
     "data": {
      "image/png": "[encoded data removed]",
      "text/plain": [
       "<Figure size 640x480 with 1 Axes>"
      ]
     },
     "metadata": {},
     "output_type": "display_data"
    }
   ],
   "source": [
    "plt.bar(x=df.player_of_match.value_counts().index[:10],height=df.player_of_match.value_counts().values[:10])\n",
    "plt.xticks(rotation='vertical')"
   ]
  },
  {
   "cell_type": "markdown",
   "id": "04d83ab9",
   "metadata": {},
   "source": [
    "### f. Teams:"
   ]
  },
  {
   "cell_type": "code",
   "execution_count": 66,
   "id": "d9ca2475",
   "metadata": {},
   "outputs": [
    {
     "data": {
      "text/plain": [
       "array(['Royal Challengers Bangalore', 'Kings XI Punjab',\n",
       "       'Delhi Daredevils', 'Mumbai Indians', 'Kolkata Knight Riders',\n",
       "       'Rajasthan Royals', 'Deccan Chargers', 'Chennai Super Kings',\n",
       "       'Kochi Tuskers Kerala', 'Pune Warriors', 'Sunrisers Hyderabad',\n",
       "       'Gujarat Lions', 'Rising Pune Supergiants',\n",
       "       'Rising Pune Supergiant', 'Delhi Capitals', 'Punjab Kings',\n",
       "       'Lucknow Super Giants', 'Gujarat Titans',\n",
       "       'Royal Challengers Bengaluru'], dtype=object)"
      ]
     },
     "execution_count": 66,
     "metadata": {},
     "output_type": "execute_result"
    }
   ],
   "source": [
    "pd.concat([df.team1,df.team2]).unique()"
   ]
  },
  {
   "cell_type": "markdown",
   "id": "449a1819",
   "metadata": {},
   "source": [
    "### g. toss_decision:"
   ]
  },
  {
   "cell_type": "code",
   "execution_count": 67,
   "id": "1055f6c4",
   "metadata": {},
   "outputs": [
    {
     "data": {
      "text/plain": [
       "array(['field', 'bat'], dtype=object)"
      ]
     },
     "execution_count": 67,
     "metadata": {},
     "output_type": "execute_result"
    }
   ],
   "source": [
    "df.toss_decision.unique()"
   ]
  },
  {
   "cell_type": "code",
   "execution_count": 70,
   "id": "188b48d4",
   "metadata": {},
   "outputs": [
    {
     "data": {
      "text/plain": [
       "<Axes: xlabel='toss_decision'>"
      ]
     },
     "execution_count": 70,
     "metadata": {},
     "output_type": "execute_result"
    },
    {
     "data": {
      "image/png": "[encoded data removed]",
      "text/plain": [
       "<Figure size 640x480 with 1 Axes>"
      ]
     },
     "metadata": {},
     "output_type": "display_data"
    }
   ],
   "source": [
    "df.toss_decision.value_counts().plot(kind='bar')"
   ]
  },
  {
   "cell_type": "markdown",
   "id": "1ea3f160",
   "metadata": {},
   "source": [
    "### h. Result and Result_margin:"
   ]
  },
  {
   "cell_type": "code",
   "execution_count": 74,
   "id": "907c00f0",
   "metadata": {},
   "outputs": [
    {
     "name": "stdout",
     "output_type": "stream",
     "text": [
      "result\n",
      "wickets      578\n",
      "runs         498\n",
      "tie           14\n",
      "no result      5\n",
      "Name: count, dtype: int64\n"
     ]
    },
    {
     "data": {
      "text/plain": [
       "<Axes: xlabel='result'>"
      ]
     },
     "execution_count": 74,
     "metadata": {},
     "output_type": "execute_result"
    },
    {
     "data": {
      "image/png": "[encoded data removed]",
      "text/plain": [
       "<Figure size 640x480 with 1 Axes>"
      ]
     },
     "metadata": {},
     "output_type": "display_data"
    }
   ],
   "source": [
    "print(df.result.value_counts())\n",
    "df.result.value_counts().plot(kind='bar')"
   ]
  },
  {
   "cell_type": "code",
   "execution_count": 77,
   "id": "a55ac360",
   "metadata": {},
   "outputs": [
    {
     "data": {
      "text/plain": [
       "id                              335984\n",
       "city                             Delhi\n",
       "date               2008-04-19 00:00:00\n",
       "match_type                      League\n",
       "player_of_match            MF Maharoof\n",
       "venue                 Feroz Shah Kotla\n",
       "team1                 Delhi Daredevils\n",
       "team2                 Rajasthan Royals\n",
       "toss_winner           Rajasthan Royals\n",
       "toss_decision                      bat\n",
       "winner                Delhi Daredevils\n",
       "result                         wickets\n",
       "result_margin                      9.0\n",
       "target_runs                      130.0\n",
       "target_overs                      20.0\n",
       "super_over                           N\n",
       "method                             NaN\n",
       "umpire1                      Aleem Dar\n",
       "umpire2                 GA Pratapkumar\n",
       "month                            April\n",
       "day                           Saturday\n",
       "year                              2008\n",
       "Name: 2, dtype: object"
      ]
     },
     "execution_count": 77,
     "metadata": {},
     "output_type": "execute_result"
    }
   ],
   "source": [
    "# if by wickets : (win through a successful chase)\n",
    "df[df['result']=='wickets'].iloc[0]"
   ]
  },
  {
   "cell_type": "code",
   "execution_count": null,
   "id": "00469d43",
   "metadata": {},
   "outputs": [],
   "source": []
  }
 ],
 "metadata": {
  "kernelspec": {
   "display_name": "Python 3 (ipykernel)",
   "language": "python",
   "name": "python3"
  },
  "language_info": {
   "codemirror_mode": {
    "name": "ipython",
    "version": 3
   },
   "file_extension": ".py",
   "mimetype": "text/x-python",
   "name": "python",
   "nbconvert_exporter": "python",
   "pygments_lexer": "ipython3",
   "version": "3.11.5"
  }
 },
 "nbformat": 4,
 "nbformat_minor": 5
}
