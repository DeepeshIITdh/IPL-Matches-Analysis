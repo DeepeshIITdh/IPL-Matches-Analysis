{
 "cells": [
  {
   "cell_type": "code",
   "execution_count": 1,
   "id": "e76c73af",
   "metadata": {},
   "outputs": [],
   "source": [
    "# importing packages\n",
    "import pandas as pd\n",
    "import numpy as np \n",
    "import matplotlib.pyplot as plt\n",
    "import seaborn as sns\n",
    "import plotly.express as px"
   ]
  },
  {
   "cell_type": "code",
   "execution_count": 2,
   "id": "4970762d",
   "metadata": {},
   "outputs": [],
   "source": [
    "# loading the data\n",
    "df = pd.read_csv(\"C://Users//Admin//Documents//Coding DOCS//CampusX Data Science//Datasets//IPL_deliveries.csv\")"
   ]
  },
  {
   "cell_type": "markdown",
   "id": "fe6cb6a9",
   "metadata": {},
   "source": [
    "# EDA on IPL Deliveries:"
   ]
  },
  {
   "cell_type": "markdown",
   "id": "b60748d0",
   "metadata": {},
   "source": [
    "## 1. Understanding the Data :"
   ]
  },
  {
   "cell_type": "code",
   "execution_count": 3,
   "id": "bf6f3f13",
   "metadata": {
    "scrolled": false
   },
   "outputs": [
    {
     "data": {
      "text/html": [
       "<div>\n",
       "<style scoped>\n",
       "    .dataframe tbody tr th:only-of-type {\n",
       "        vertical-align: middle;\n",
       "    }\n",
       "\n",
       "    .dataframe tbody tr th {\n",
       "        vertical-align: top;\n",
       "    }\n",
       "\n",
       "    .dataframe thead th {\n",
       "        text-align: right;\n",
       "    }\n",
       "</style>\n",
       "<table border=\"1\" class=\"dataframe\">\n",
       "  <thead>\n",
       "    <tr style=\"text-align: right;\">\n",
       "      <th></th>\n",
       "      <th>match_id</th>\n",
       "      <th>inning</th>\n",
       "      <th>batting_team</th>\n",
       "      <th>bowling_team</th>\n",
       "      <th>over</th>\n",
       "      <th>ball</th>\n",
       "      <th>batter</th>\n",
       "      <th>bowler</th>\n",
       "      <th>non_striker</th>\n",
       "      <th>batsman_runs</th>\n",
       "      <th>extra_runs</th>\n",
       "      <th>total_runs</th>\n",
       "      <th>extras_type</th>\n",
       "      <th>is_wicket</th>\n",
       "      <th>player_dismissed</th>\n",
       "      <th>dismissal_kind</th>\n",
       "      <th>fielder</th>\n",
       "    </tr>\n",
       "  </thead>\n",
       "  <tbody>\n",
       "    <tr>\n",
       "      <th>0</th>\n",
       "      <td>335982</td>\n",
       "      <td>1</td>\n",
       "      <td>Kolkata Knight Riders</td>\n",
       "      <td>Royal Challengers Bangalore</td>\n",
       "      <td>0</td>\n",
       "      <td>1</td>\n",
       "      <td>SC Ganguly</td>\n",
       "      <td>P Kumar</td>\n",
       "      <td>BB McCullum</td>\n",
       "      <td>0</td>\n",
       "      <td>1</td>\n",
       "      <td>1</td>\n",
       "      <td>legbyes</td>\n",
       "      <td>0</td>\n",
       "      <td>NaN</td>\n",
       "      <td>NaN</td>\n",
       "      <td>NaN</td>\n",
       "    </tr>\n",
       "    <tr>\n",
       "      <th>1</th>\n",
       "      <td>335982</td>\n",
       "      <td>1</td>\n",
       "      <td>Kolkata Knight Riders</td>\n",
       "      <td>Royal Challengers Bangalore</td>\n",
       "      <td>0</td>\n",
       "      <td>2</td>\n",
       "      <td>BB McCullum</td>\n",
       "      <td>P Kumar</td>\n",
       "      <td>SC Ganguly</td>\n",
       "      <td>0</td>\n",
       "      <td>0</td>\n",
       "      <td>0</td>\n",
       "      <td>NaN</td>\n",
       "      <td>0</td>\n",
       "      <td>NaN</td>\n",
       "      <td>NaN</td>\n",
       "      <td>NaN</td>\n",
       "    </tr>\n",
       "    <tr>\n",
       "      <th>2</th>\n",
       "      <td>335982</td>\n",
       "      <td>1</td>\n",
       "      <td>Kolkata Knight Riders</td>\n",
       "      <td>Royal Challengers Bangalore</td>\n",
       "      <td>0</td>\n",
       "      <td>3</td>\n",
       "      <td>BB McCullum</td>\n",
       "      <td>P Kumar</td>\n",
       "      <td>SC Ganguly</td>\n",
       "      <td>0</td>\n",
       "      <td>1</td>\n",
       "      <td>1</td>\n",
       "      <td>wides</td>\n",
       "      <td>0</td>\n",
       "      <td>NaN</td>\n",
       "      <td>NaN</td>\n",
       "      <td>NaN</td>\n",
       "    </tr>\n",
       "    <tr>\n",
       "      <th>3</th>\n",
       "      <td>335982</td>\n",
       "      <td>1</td>\n",
       "      <td>Kolkata Knight Riders</td>\n",
       "      <td>Royal Challengers Bangalore</td>\n",
       "      <td>0</td>\n",
       "      <td>4</td>\n",
       "      <td>BB McCullum</td>\n",
       "      <td>P Kumar</td>\n",
       "      <td>SC Ganguly</td>\n",
       "      <td>0</td>\n",
       "      <td>0</td>\n",
       "      <td>0</td>\n",
       "      <td>NaN</td>\n",
       "      <td>0</td>\n",
       "      <td>NaN</td>\n",
       "      <td>NaN</td>\n",
       "      <td>NaN</td>\n",
       "    </tr>\n",
       "    <tr>\n",
       "      <th>4</th>\n",
       "      <td>335982</td>\n",
       "      <td>1</td>\n",
       "      <td>Kolkata Knight Riders</td>\n",
       "      <td>Royal Challengers Bangalore</td>\n",
       "      <td>0</td>\n",
       "      <td>5</td>\n",
       "      <td>BB McCullum</td>\n",
       "      <td>P Kumar</td>\n",
       "      <td>SC Ganguly</td>\n",
       "      <td>0</td>\n",
       "      <td>0</td>\n",
       "      <td>0</td>\n",
       "      <td>NaN</td>\n",
       "      <td>0</td>\n",
       "      <td>NaN</td>\n",
       "      <td>NaN</td>\n",
       "      <td>NaN</td>\n",
       "    </tr>\n",
       "  </tbody>\n",
       "</table>\n",
       "</div>"
      ],
      "text/plain": [
       "   match_id  inning           batting_team                 bowling_team  over  \\\n",
       "0    335982       1  Kolkata Knight Riders  Royal Challengers Bangalore     0   \n",
       "1    335982       1  Kolkata Knight Riders  Royal Challengers Bangalore     0   \n",
       "2    335982       1  Kolkata Knight Riders  Royal Challengers Bangalore     0   \n",
       "3    335982       1  Kolkata Knight Riders  Royal Challengers Bangalore     0   \n",
       "4    335982       1  Kolkata Knight Riders  Royal Challengers Bangalore     0   \n",
       "\n",
       "   ball       batter   bowler  non_striker  batsman_runs  extra_runs  \\\n",
       "0     1   SC Ganguly  P Kumar  BB McCullum             0           1   \n",
       "1     2  BB McCullum  P Kumar   SC Ganguly             0           0   \n",
       "2     3  BB McCullum  P Kumar   SC Ganguly             0           1   \n",
       "3     4  BB McCullum  P Kumar   SC Ganguly             0           0   \n",
       "4     5  BB McCullum  P Kumar   SC Ganguly             0           0   \n",
       "\n",
       "   total_runs extras_type  is_wicket player_dismissed dismissal_kind fielder  \n",
       "0           1     legbyes          0              NaN            NaN     NaN  \n",
       "1           0         NaN          0              NaN            NaN     NaN  \n",
       "2           1       wides          0              NaN            NaN     NaN  \n",
       "3           0         NaN          0              NaN            NaN     NaN  \n",
       "4           0         NaN          0              NaN            NaN     NaN  "
      ]
     },
     "execution_count": 3,
     "metadata": {},
     "output_type": "execute_result"
    }
   ],
   "source": [
    "df.head()"
   ]
  },
  {
   "cell_type": "code",
   "execution_count": 4,
   "id": "38cb9c2a",
   "metadata": {},
   "outputs": [
    {
     "data": {
      "text/plain": [
       "(260920, 17)"
      ]
     },
     "execution_count": 4,
     "metadata": {},
     "output_type": "execute_result"
    }
   ],
   "source": [
    "# how big is the data ?\n",
    "df.shape"
   ]
  },
  {
   "cell_type": "code",
   "execution_count": 5,
   "id": "af5a7f42",
   "metadata": {},
   "outputs": [
    {
     "data": {
      "text/plain": [
       "match_id                 0\n",
       "inning                   0\n",
       "batting_team             0\n",
       "bowling_team             0\n",
       "over                     0\n",
       "ball                     0\n",
       "batter                   0\n",
       "bowler                   0\n",
       "non_striker              0\n",
       "batsman_runs             0\n",
       "extra_runs               0\n",
       "total_runs               0\n",
       "extras_type         246795\n",
       "is_wicket                0\n",
       "player_dismissed    247970\n",
       "dismissal_kind      247970\n",
       "fielder             251566\n",
       "dtype: int64"
      ]
     },
     "execution_count": 5,
     "metadata": {},
     "output_type": "execute_result"
    }
   ],
   "source": [
    "# missing values \n",
    "df.isnull().sum()"
   ]
  },
  {
   "cell_type": "code",
   "execution_count": 6,
   "id": "48553b79",
   "metadata": {},
   "outputs": [
    {
     "data": {
      "text/plain": [
       "0"
      ]
     },
     "execution_count": 6,
     "metadata": {},
     "output_type": "execute_result"
    }
   ],
   "source": [
    "# duplicate rows\n",
    "df.duplicated().sum()"
   ]
  },
  {
   "cell_type": "markdown",
   "id": "892e1a88",
   "metadata": {},
   "source": [
    "## 2. Univariate Analysis:"
   ]
  },
  {
   "cell_type": "code",
   "execution_count": 7,
   "id": "8ce127d1",
   "metadata": {},
   "outputs": [
    {
     "data": {
      "text/html": [
       "<div>\n",
       "<style scoped>\n",
       "    .dataframe tbody tr th:only-of-type {\n",
       "        vertical-align: middle;\n",
       "    }\n",
       "\n",
       "    .dataframe tbody tr th {\n",
       "        vertical-align: top;\n",
       "    }\n",
       "\n",
       "    .dataframe thead th {\n",
       "        text-align: right;\n",
       "    }\n",
       "</style>\n",
       "<table border=\"1\" class=\"dataframe\">\n",
       "  <thead>\n",
       "    <tr style=\"text-align: right;\">\n",
       "      <th></th>\n",
       "      <th>match_id</th>\n",
       "      <th>inning</th>\n",
       "      <th>batting_team</th>\n",
       "      <th>bowling_team</th>\n",
       "      <th>over</th>\n",
       "      <th>ball</th>\n",
       "      <th>batter</th>\n",
       "      <th>bowler</th>\n",
       "      <th>non_striker</th>\n",
       "      <th>batsman_runs</th>\n",
       "      <th>extra_runs</th>\n",
       "      <th>total_runs</th>\n",
       "      <th>extras_type</th>\n",
       "      <th>is_wicket</th>\n",
       "      <th>player_dismissed</th>\n",
       "      <th>dismissal_kind</th>\n",
       "      <th>fielder</th>\n",
       "    </tr>\n",
       "  </thead>\n",
       "  <tbody>\n",
       "    <tr>\n",
       "      <th>0</th>\n",
       "      <td>335982</td>\n",
       "      <td>1</td>\n",
       "      <td>Kolkata Knight Riders</td>\n",
       "      <td>Royal Challengers Bangalore</td>\n",
       "      <td>0</td>\n",
       "      <td>1</td>\n",
       "      <td>SC Ganguly</td>\n",
       "      <td>P Kumar</td>\n",
       "      <td>BB McCullum</td>\n",
       "      <td>0</td>\n",
       "      <td>1</td>\n",
       "      <td>1</td>\n",
       "      <td>legbyes</td>\n",
       "      <td>0</td>\n",
       "      <td>NaN</td>\n",
       "      <td>NaN</td>\n",
       "      <td>NaN</td>\n",
       "    </tr>\n",
       "    <tr>\n",
       "      <th>1</th>\n",
       "      <td>335982</td>\n",
       "      <td>1</td>\n",
       "      <td>Kolkata Knight Riders</td>\n",
       "      <td>Royal Challengers Bangalore</td>\n",
       "      <td>0</td>\n",
       "      <td>2</td>\n",
       "      <td>BB McCullum</td>\n",
       "      <td>P Kumar</td>\n",
       "      <td>SC Ganguly</td>\n",
       "      <td>0</td>\n",
       "      <td>0</td>\n",
       "      <td>0</td>\n",
       "      <td>NaN</td>\n",
       "      <td>0</td>\n",
       "      <td>NaN</td>\n",
       "      <td>NaN</td>\n",
       "      <td>NaN</td>\n",
       "    </tr>\n",
       "    <tr>\n",
       "      <th>2</th>\n",
       "      <td>335982</td>\n",
       "      <td>1</td>\n",
       "      <td>Kolkata Knight Riders</td>\n",
       "      <td>Royal Challengers Bangalore</td>\n",
       "      <td>0</td>\n",
       "      <td>3</td>\n",
       "      <td>BB McCullum</td>\n",
       "      <td>P Kumar</td>\n",
       "      <td>SC Ganguly</td>\n",
       "      <td>0</td>\n",
       "      <td>1</td>\n",
       "      <td>1</td>\n",
       "      <td>wides</td>\n",
       "      <td>0</td>\n",
       "      <td>NaN</td>\n",
       "      <td>NaN</td>\n",
       "      <td>NaN</td>\n",
       "    </tr>\n",
       "    <tr>\n",
       "      <th>3</th>\n",
       "      <td>335982</td>\n",
       "      <td>1</td>\n",
       "      <td>Kolkata Knight Riders</td>\n",
       "      <td>Royal Challengers Bangalore</td>\n",
       "      <td>0</td>\n",
       "      <td>4</td>\n",
       "      <td>BB McCullum</td>\n",
       "      <td>P Kumar</td>\n",
       "      <td>SC Ganguly</td>\n",
       "      <td>0</td>\n",
       "      <td>0</td>\n",
       "      <td>0</td>\n",
       "      <td>NaN</td>\n",
       "      <td>0</td>\n",
       "      <td>NaN</td>\n",
       "      <td>NaN</td>\n",
       "      <td>NaN</td>\n",
       "    </tr>\n",
       "    <tr>\n",
       "      <th>4</th>\n",
       "      <td>335982</td>\n",
       "      <td>1</td>\n",
       "      <td>Kolkata Knight Riders</td>\n",
       "      <td>Royal Challengers Bangalore</td>\n",
       "      <td>0</td>\n",
       "      <td>5</td>\n",
       "      <td>BB McCullum</td>\n",
       "      <td>P Kumar</td>\n",
       "      <td>SC Ganguly</td>\n",
       "      <td>0</td>\n",
       "      <td>0</td>\n",
       "      <td>0</td>\n",
       "      <td>NaN</td>\n",
       "      <td>0</td>\n",
       "      <td>NaN</td>\n",
       "      <td>NaN</td>\n",
       "      <td>NaN</td>\n",
       "    </tr>\n",
       "  </tbody>\n",
       "</table>\n",
       "</div>"
      ],
      "text/plain": [
       "   match_id  inning           batting_team                 bowling_team  over  \\\n",
       "0    335982       1  Kolkata Knight Riders  Royal Challengers Bangalore     0   \n",
       "1    335982       1  Kolkata Knight Riders  Royal Challengers Bangalore     0   \n",
       "2    335982       1  Kolkata Knight Riders  Royal Challengers Bangalore     0   \n",
       "3    335982       1  Kolkata Knight Riders  Royal Challengers Bangalore     0   \n",
       "4    335982       1  Kolkata Knight Riders  Royal Challengers Bangalore     0   \n",
       "\n",
       "   ball       batter   bowler  non_striker  batsman_runs  extra_runs  \\\n",
       "0     1   SC Ganguly  P Kumar  BB McCullum             0           1   \n",
       "1     2  BB McCullum  P Kumar   SC Ganguly             0           0   \n",
       "2     3  BB McCullum  P Kumar   SC Ganguly             0           1   \n",
       "3     4  BB McCullum  P Kumar   SC Ganguly             0           0   \n",
       "4     5  BB McCullum  P Kumar   SC Ganguly             0           0   \n",
       "\n",
       "   total_runs extras_type  is_wicket player_dismissed dismissal_kind fielder  \n",
       "0           1     legbyes          0              NaN            NaN     NaN  \n",
       "1           0         NaN          0              NaN            NaN     NaN  \n",
       "2           1       wides          0              NaN            NaN     NaN  \n",
       "3           0         NaN          0              NaN            NaN     NaN  \n",
       "4           0         NaN          0              NaN            NaN     NaN  "
      ]
     },
     "execution_count": 7,
     "metadata": {},
     "output_type": "execute_result"
    }
   ],
   "source": [
    "df.head()"
   ]
  },
  {
   "cell_type": "code",
   "execution_count": 8,
   "id": "8fced158",
   "metadata": {},
   "outputs": [
    {
     "data": {
      "text/plain": [
       "Index(['match_id', 'inning', 'batting_team', 'bowling_team', 'over', 'ball',\n",
       "       'batter', 'bowler', 'non_striker', 'batsman_runs', 'extra_runs',\n",
       "       'total_runs', 'extras_type', 'is_wicket', 'player_dismissed',\n",
       "       'dismissal_kind', 'fielder'],\n",
       "      dtype='object')"
      ]
     },
     "execution_count": 8,
     "metadata": {},
     "output_type": "execute_result"
    }
   ],
   "source": [
    "df.columns"
   ]
  },
  {
   "cell_type": "markdown",
   "id": "9ac7e370",
   "metadata": {},
   "source": [
    "### a. match_id:"
   ]
  },
  {
   "cell_type": "code",
   "execution_count": 9,
   "id": "092b4535",
   "metadata": {},
   "outputs": [
    {
     "name": "stdout",
     "output_type": "stream",
     "text": [
      "No. of Matches: 1095\n"
     ]
    }
   ],
   "source": [
    "# We can refer to the IPL Matches Dataset for the match details using match_id\n",
    "print(f'No. of Matches: {len(df.match_id.unique())}') "
   ]
  },
  {
   "cell_type": "markdown",
   "id": "850f68c3",
   "metadata": {},
   "source": [
    "### b. inning:"
   ]
  },
  {
   "cell_type": "code",
   "execution_count": 10,
   "id": "d8f78ba7",
   "metadata": {},
   "outputs": [
    {
     "data": {
      "text/plain": [
       "array([1, 2, 3, 4, 5, 6], dtype=int64)"
      ]
     },
     "execution_count": 10,
     "metadata": {},
     "output_type": "execute_result"
    }
   ],
   "source": [
    "df.inning.unique()"
   ]
  },
  {
   "cell_type": "code",
   "execution_count": 11,
   "id": "49f7942c",
   "metadata": {},
   "outputs": [
    {
     "data": {
      "text/plain": [
       "inning\n",
       "1    135018\n",
       "2    125741\n",
       "3        77\n",
       "4        72\n",
       "5         8\n",
       "6         4\n",
       "Name: count, dtype: int64"
      ]
     },
     "execution_count": 11,
     "metadata": {},
     "output_type": "execute_result"
    }
   ],
   "source": [
    "df.inning.value_counts()"
   ]
  },
  {
   "cell_type": "markdown",
   "id": "7c839fa8",
   "metadata": {},
   "source": [
    "### c. over and ball:"
   ]
  },
  {
   "cell_type": "code",
   "execution_count": 12,
   "id": "50e1acc5",
   "metadata": {},
   "outputs": [
    {
     "data": {
      "text/plain": [
       "array([ 0,  1,  2,  3,  4,  5,  6,  7,  8,  9, 10, 11, 12, 13, 14, 15, 16,\n",
       "       17, 18, 19], dtype=int64)"
      ]
     },
     "execution_count": 12,
     "metadata": {},
     "output_type": "execute_result"
    }
   ],
   "source": [
    "df.over.unique()"
   ]
  },
  {
   "cell_type": "code",
   "execution_count": 13,
   "id": "4a3de087",
   "metadata": {},
   "outputs": [
    {
     "data": {
      "text/plain": [
       "array([ 1,  2,  3,  4,  5,  6,  7,  8,  9, 10, 11], dtype=int64)"
      ]
     },
     "execution_count": 13,
     "metadata": {},
     "output_type": "execute_result"
    }
   ],
   "source": [
    "df.ball.unique()"
   ]
  },
  {
   "cell_type": "code",
   "execution_count": 14,
   "id": "6cb21df0",
   "metadata": {},
   "outputs": [
    {
     "data": {
      "text/plain": [
       "ball\n",
       "1     42210\n",
       "2     42106\n",
       "3     42002\n",
       "4     41891\n",
       "5     41752\n",
       "6     41619\n",
       "7      7776\n",
       "8      1307\n",
       "9       225\n",
       "10       30\n",
       "11        2\n",
       "Name: count, dtype: int64"
      ]
     },
     "execution_count": 14,
     "metadata": {},
     "output_type": "execute_result"
    }
   ],
   "source": [
    "df.ball.value_counts()"
   ]
  },
  {
   "cell_type": "markdown",
   "id": "08eb4d51",
   "metadata": {},
   "source": [
    "### d. Batsman_runs:"
   ]
  },
  {
   "cell_type": "code",
   "execution_count": 15,
   "id": "7bda0a8d",
   "metadata": {},
   "outputs": [
    {
     "data": {
      "text/plain": [
       "array([0, 4, 6, 1, 2, 5, 3], dtype=int64)"
      ]
     },
     "execution_count": 15,
     "metadata": {},
     "output_type": "execute_result"
    }
   ],
   "source": [
    "df.batsman_runs.unique()"
   ]
  },
  {
   "cell_type": "markdown",
   "id": "daed8752",
   "metadata": {},
   "source": [
    "### e. Extra_runs and Extra_types:"
   ]
  },
  {
   "cell_type": "code",
   "execution_count": 16,
   "id": "2f8699fc",
   "metadata": {},
   "outputs": [
    {
     "data": {
      "text/plain": [
       "array([1, 0, 5, 4, 2, 3, 7], dtype=int64)"
      ]
     },
     "execution_count": 16,
     "metadata": {},
     "output_type": "execute_result"
    }
   ],
   "source": [
    "df.extra_runs.unique()"
   ]
  },
  {
   "cell_type": "code",
   "execution_count": 17,
   "id": "765859e8",
   "metadata": {},
   "outputs": [
    {
     "data": {
      "text/plain": [
       "array(['legbyes', nan, 'wides', 'byes', 'noballs', 'penalty'],\n",
       "      dtype=object)"
      ]
     },
     "execution_count": 17,
     "metadata": {},
     "output_type": "execute_result"
    }
   ],
   "source": [
    "df.extras_type.unique()"
   ]
  },
  {
   "cell_type": "markdown",
   "id": "b1e2d0b8",
   "metadata": {},
   "source": [
    "### f. is_wicket:"
   ]
  },
  {
   "cell_type": "code",
   "execution_count": 18,
   "id": "8c0e0810",
   "metadata": {},
   "outputs": [
    {
     "data": {
      "text/plain": [
       "array([0, 1], dtype=int64)"
      ]
     },
     "execution_count": 18,
     "metadata": {},
     "output_type": "execute_result"
    }
   ],
   "source": [
    "df.is_wicket.unique()"
   ]
  },
  {
   "cell_type": "markdown",
   "id": "dc162581",
   "metadata": {},
   "source": [
    "### g. player_dismissed and dismissal_kind:"
   ]
  },
  {
   "cell_type": "code",
   "execution_count": 19,
   "id": "d0bc0d79",
   "metadata": {},
   "outputs": [
    {
     "data": {
      "text/html": [
       "<div>\n",
       "<style scoped>\n",
       "    .dataframe tbody tr th:only-of-type {\n",
       "        vertical-align: middle;\n",
       "    }\n",
       "\n",
       "    .dataframe tbody tr th {\n",
       "        vertical-align: top;\n",
       "    }\n",
       "\n",
       "    .dataframe thead th {\n",
       "        text-align: right;\n",
       "    }\n",
       "</style>\n",
       "<table border=\"1\" class=\"dataframe\">\n",
       "  <thead>\n",
       "    <tr style=\"text-align: right;\">\n",
       "      <th></th>\n",
       "      <th>match_id</th>\n",
       "      <th>inning</th>\n",
       "      <th>batting_team</th>\n",
       "      <th>bowling_team</th>\n",
       "      <th>over</th>\n",
       "      <th>ball</th>\n",
       "      <th>batter</th>\n",
       "      <th>bowler</th>\n",
       "      <th>non_striker</th>\n",
       "      <th>batsman_runs</th>\n",
       "      <th>extra_runs</th>\n",
       "      <th>total_runs</th>\n",
       "      <th>extras_type</th>\n",
       "      <th>is_wicket</th>\n",
       "      <th>player_dismissed</th>\n",
       "      <th>dismissal_kind</th>\n",
       "      <th>fielder</th>\n",
       "    </tr>\n",
       "  </thead>\n",
       "  <tbody>\n",
       "    <tr>\n",
       "      <th>91751</th>\n",
       "      <td>598061</td>\n",
       "      <td>2</td>\n",
       "      <td>Kolkata Knight Riders</td>\n",
       "      <td>Pune Warriors</td>\n",
       "      <td>17</td>\n",
       "      <td>5</td>\n",
       "      <td>YK Pathan</td>\n",
       "      <td>WD Parnell</td>\n",
       "      <td>DB Das</td>\n",
       "      <td>0</td>\n",
       "      <td>0</td>\n",
       "      <td>0</td>\n",
       "      <td>NaN</td>\n",
       "      <td>1</td>\n",
       "      <td>YK Pathan</td>\n",
       "      <td>obstructing the field</td>\n",
       "      <td>NaN</td>\n",
       "    </tr>\n",
       "    <tr>\n",
       "      <th>178570</th>\n",
       "      <td>1181766</td>\n",
       "      <td>2</td>\n",
       "      <td>Delhi Capitals</td>\n",
       "      <td>Sunrisers Hyderabad</td>\n",
       "      <td>19</td>\n",
       "      <td>5</td>\n",
       "      <td>A Mishra</td>\n",
       "      <td>KK Ahmed</td>\n",
       "      <td>KMA Paul</td>\n",
       "      <td>0</td>\n",
       "      <td>0</td>\n",
       "      <td>0</td>\n",
       "      <td>NaN</td>\n",
       "      <td>1</td>\n",
       "      <td>A Mishra</td>\n",
       "      <td>obstructing the field</td>\n",
       "      <td>NaN</td>\n",
       "    </tr>\n",
       "    <tr>\n",
       "      <th>258526</th>\n",
       "      <td>1426299</td>\n",
       "      <td>2</td>\n",
       "      <td>Chennai Super Kings</td>\n",
       "      <td>Rajasthan Royals</td>\n",
       "      <td>15</td>\n",
       "      <td>5</td>\n",
       "      <td>RA Jadeja</td>\n",
       "      <td>Avesh Khan</td>\n",
       "      <td>RD Gaikwad</td>\n",
       "      <td>1</td>\n",
       "      <td>0</td>\n",
       "      <td>1</td>\n",
       "      <td>NaN</td>\n",
       "      <td>1</td>\n",
       "      <td>RA Jadeja</td>\n",
       "      <td>obstructing the field</td>\n",
       "      <td>NaN</td>\n",
       "    </tr>\n",
       "  </tbody>\n",
       "</table>\n",
       "</div>"
      ],
      "text/plain": [
       "        match_id  inning           batting_team         bowling_team  over  \\\n",
       "91751     598061       2  Kolkata Knight Riders        Pune Warriors    17   \n",
       "178570   1181766       2         Delhi Capitals  Sunrisers Hyderabad    19   \n",
       "258526   1426299       2    Chennai Super Kings     Rajasthan Royals    15   \n",
       "\n",
       "        ball     batter      bowler non_striker  batsman_runs  extra_runs  \\\n",
       "91751      5  YK Pathan  WD Parnell      DB Das             0           0   \n",
       "178570     5   A Mishra    KK Ahmed    KMA Paul             0           0   \n",
       "258526     5  RA Jadeja  Avesh Khan  RD Gaikwad             1           0   \n",
       "\n",
       "        total_runs extras_type  is_wicket player_dismissed  \\\n",
       "91751            0         NaN          1        YK Pathan   \n",
       "178570           0         NaN          1         A Mishra   \n",
       "258526           1         NaN          1        RA Jadeja   \n",
       "\n",
       "               dismissal_kind fielder  \n",
       "91751   obstructing the field     NaN  \n",
       "178570  obstructing the field     NaN  \n",
       "258526  obstructing the field     NaN  "
      ]
     },
     "execution_count": 19,
     "metadata": {},
     "output_type": "execute_result"
    }
   ],
   "source": [
    "df[df.dismissal_kind=='obstructing the field']"
   ]
  },
  {
   "cell_type": "code",
   "execution_count": 20,
   "id": "001a3fb1",
   "metadata": {},
   "outputs": [
    {
     "data": {
      "text/plain": [
       "array([nan, 'caught', 'bowled', 'run out', 'lbw', 'retired hurt',\n",
       "       'stumped', 'caught and bowled', 'hit wicket',\n",
       "       'obstructing the field', 'retired out'], dtype=object)"
      ]
     },
     "execution_count": 20,
     "metadata": {},
     "output_type": "execute_result"
    }
   ],
   "source": [
    "df.dismissal_kind.unique()"
   ]
  },
  {
   "cell_type": "code",
   "execution_count": 21,
   "id": "173235b3",
   "metadata": {},
   "outputs": [
    {
     "data": {
      "text/plain": [
       "dismissal_kind\n",
       "caught                   8063\n",
       "bowled                   2212\n",
       "run out                  1114\n",
       "lbw                       800\n",
       "caught and bowled         367\n",
       "stumped                   358\n",
       "retired hurt               15\n",
       "hit wicket                 15\n",
       "obstructing the field       3\n",
       "retired out                 3\n",
       "Name: count, dtype: int64"
      ]
     },
     "execution_count": 21,
     "metadata": {},
     "output_type": "execute_result"
    }
   ],
   "source": [
    "df.dismissal_kind.value_counts()"
   ]
  },
  {
   "cell_type": "markdown",
   "id": "9002e17c",
   "metadata": {},
   "source": [
    "### h. Fielder:"
   ]
  },
  {
   "cell_type": "code",
   "execution_count": 22,
   "id": "f17b7faf",
   "metadata": {},
   "outputs": [
    {
     "data": {
      "text/plain": [
       "fielder\n",
       "MS Dhoni            220\n",
       "KD Karthik          199\n",
       "AB de Villiers      141\n",
       "RV Uthappa          133\n",
       "WP Saha             131\n",
       "                   ... \n",
       "TS Mills              1\n",
       "Ankit Soni            1\n",
       "WPUJC Vaas            1\n",
       "B Laughlin            1\n",
       "T Kohler-Cadmore      1\n",
       "Name: count, Length: 607, dtype: int64"
      ]
     },
     "execution_count": 22,
     "metadata": {},
     "output_type": "execute_result"
    }
   ],
   "source": [
    "df.fielder.value_counts()"
   ]
  },
  {
   "cell_type": "markdown",
   "id": "5886f548",
   "metadata": {},
   "source": [
    "## Matches Analysis with Deliveries:"
   ]
  },
  {
   "cell_type": "code",
   "execution_count": 29,
   "id": "165cd7ba",
   "metadata": {},
   "outputs": [
    {
     "data": {
      "text/plain": [
       "188"
      ]
     },
     "execution_count": 29,
     "metadata": {},
     "output_type": "execute_result"
    }
   ],
   "source": [
    "# DD batting\n",
    "df[df.match_id==419134][df[df.match_id==419134].inning==1].total_runs.sum()"
   ]
  },
  {
   "cell_type": "code",
   "execution_count": 30,
   "id": "ab13e540",
   "metadata": {},
   "outputs": [
    {
     "data": {
      "text/plain": [
       "121"
      ]
     },
     "execution_count": 30,
     "metadata": {},
     "output_type": "execute_result"
    }
   ],
   "source": [
    "# RR batting\n",
    "df[df.match_id==419134][df[df.match_id==419134].inning==2].total_runs.sum()"
   ]
  },
  {
   "cell_type": "code",
   "execution_count": null,
   "id": "796eaf5e",
   "metadata": {},
   "outputs": [],
   "source": []
  }
 ],
 "metadata": {
  "kernelspec": {
   "display_name": "Python 3 (ipykernel)",
   "language": "python",
   "name": "python3"
  },
  "language_info": {
   "codemirror_mode": {
    "name": "ipython",
    "version": 3
   },
   "file_extension": ".py",
   "mimetype": "text/x-python",
   "name": "python",
   "nbconvert_exporter": "python",
   "pygments_lexer": "ipython3",
   "version": "3.11.5"
  }
 },
 "nbformat": 4,
 "nbformat_minor": 5
}
